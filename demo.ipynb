{
 "metadata": {
  "language_info": {
   "codemirror_mode": {
    "name": "ipython",
    "version": 3
   },
   "file_extension": ".py",
   "mimetype": "text/x-python",
   "name": "python",
   "nbconvert_exporter": "python",
   "pygments_lexer": "ipython3",
   "version": 3
  },
  "orig_nbformat": 2,
  "kernelspec": {
   "name": "python_defaultSpec_1596653399848",
   "display_name": "Python 3.8.5 32-bit ('env': venv)"
  }
 },
 "nbformat": 4,
 "nbformat_minor": 2,
 "cells": [
  {
   "cell_type": "code",
   "execution_count": 17,
   "metadata": {
    "tags": []
   },
   "outputs": [],
   "source": [
    "from init_photo_service import service\n",
    "import pandas as pd\n",
    "\n",
    "pd.set_option('display.max_columns', 100)\n",
    "pd.set_option('display.max_rows', 50)\n",
    "pd.set_option('display.max_colwidth', 50)\n",
    "pd.set_option('display.width', 300)\n",
    "pd.set_option('expand_frame_repr', True)\n"
   ]
  },
  {
   "cell_type": "code",
   "execution_count": 5,
   "metadata": {
    "tags": []
   },
   "outputs": [
    {
     "output_type": "stream",
     "name": "stdout",
     "text": "id                     title                productUrl mediaItemsCount         coverPhotoBaseUrl     coverPhotoMediaItemId\n0   AEcM7lYBz-O_Mwe5rn6LY...          Countryfile 2020  https://photos.google...               3  https://lh3.googleuse...  AEcM7lZ5fCSIwq38lv853...\n1   AEcM7lb-_nHKiFCnOrKxV...        Scotland July 2020  https://photos.google...             220  https://lh3.googleuse...  AEcM7lY6Rc4ieeOxzIZ1-...\n2   AEcM7lYJ0aPMycpSx7ABx...                     Chats  https://photos.google...              10  https://lh3.googleuse...  AEcM7lYNly-ex_PB_0h28...\n3   AEcM7lYvDIn9xKZrPbjRu...                Landscapes  https://photos.google...             696  https://lh3.googleuse...  AEcM7lYV878FAhq5zmF0Q...\n4   AEcM7lbdhxfaagnaR2X3z...                     Birds  https://photos.google...            2510  https://lh3.googleuse...  AEcM7lZZtUIZPZBMC-8OO...\n5   AEcM7lZmk7T4DePp3ojsN...                     Fauna  https://photos.google...             391  https://lh3.googleuse...  AEcM7laZYo-dKUHOunn4C...\n6   AEcM7lbfkzF56JbAfnguM...       Butterflies & Moths  https://photos.google...             644  https://lh3.googleuse...  AEcM7lamDzq9qrQXuDVwN...\n7   AEcM7lbkp2cd5GBzGiQQZ...                     Macro  https://photos.google...             817  https://lh3.googleuse...  AEcM7lbkrPfB7apZhvauS...\n8   AEcM7ladhcmuXpbmEthTU...             Beadnell 2020  https://photos.google...             276  https://lh3.googleuse...  AEcM7la0FXn-ZWtBATWHI...\n9   AEcM7lYYyPDSzaiyFDClQ...           London Feb 2020  https://photos.google...              53  https://lh3.googleuse...  AEcM7lagPNysnWb6fUOI6...\n10  AEcM7lZ3vq6Q-qEXBYPWb...                     Fungi  https://photos.google...             182  https://lh3.googleuse...  AEcM7lZZNUMIurfyK87gw...\n11  AEcM7lYpqFtNauJmcqBVW...                     Flora  https://photos.google...             106  https://lh3.googleuse...  AEcM7lZcUz2OmMc_Acx6g...\n12  AEcM7lYHwMXTFwcOPqzk9...        Lake District 2019  https://photos.google...             230  https://lh3.googleuse...  AEcM7lZ4w1ninqmj3w8RD...\n13  AEcM7laLMv--Vlj5X2ZeQ...                      Boys  https://photos.google...             812  https://lh3.googleuse...  AEcM7lb6Zwg9MLcqN90mT...\n14  AEcM7lYwx176MQNcD1FE_...                      Best  https://photos.google...               3  https://lh3.googleuse...  AEcM7laePmdDIrC0Ve6RV...\n15  AEcM7lbA_ttuRGR-BlkoW...       Bempton & Blacktoft  https://photos.google...             141  https://lh3.googleuse...  AEcM7lbgeeRLJpJpBfN3f...\n16  AEcM7laczhUTy907pDYxG...          Wagon Trail Walk  https://photos.google...              34  https://lh3.googleuse...  AEcM7lZsjgfID8qZSTRXd...\n17  AEcM7lZO3Yg0Vrs1OCrD2...       Dunford Bridge Walk  https://photos.google...              41  https://lh3.googleuse...  AEcM7lZMdqOfyPFbwiRSk...\n18  AEcM7lbp944mOydek5R_J...                  EEP 2018  https://photos.google...             278  https://lh3.googleuse...  AEcM7lYMcGGGbcMDFBzdC...\n19  AEcM7lYTRw9T12JVBNf1o...            Cotswolds 2018  https://photos.google...             207  https://lh3.googleuse...  AEcM7lbUw7t9dOD_CjNwH...\n20  AEcM7lafBjYinBn_MRWFy...     Cotswolds Butterflies  https://photos.google...              43  https://lh3.googleuse...  AEcM7lYV_3K4q984EPHAj...\n21  AEcM7laGbno1Am5wb8XdY...            Hong Kong 2018  https://photos.google...             354  https://lh3.googleuse...  AEcM7laQgIjJYx7lxKAWx...\n22  AEcM7lYF_zlEON50iPjcL...           Montenegro 2018  https://photos.google...             504  https://lh3.googleuse...  AEcM7lZneMAnFqrH7MhVx...\n23  AEcM7laYCzFvQMe9XQrMe...                    Waders  https://photos.google...               5  https://lh3.googleuse...  AEcM7lZ3sy2YqRq2PXEoF...\n24  AEcM7lY7LAPf-gNd9UMQT...                      Comp  https://photos.google...               5  https://lh3.googleuse...  AEcM7lY4TaOS1hmxjMdVh...\n25  AEcM7laRFLiYgg_FSB0v-...    Rudston Family Holiday  https://photos.google...             186  https://lh3.googleuse...  AEcM7lbR8Q6lMXOUeQ7og...\n26  AEcM7lamZPNoTHxNpe7Uj...                India 2016  https://photos.google...             705  https://lh3.googleuse...  AEcM7lamS76VXkF5cFd5Y...\n27  AEcM7lZd4XVkX6Cq9jHWI...     India Wildlife Tagged  https://photos.google...              30  https://lh3.googleuse...  AEcM7lbYlqlOM_sC0icG5...\n28  AEcM7lYANav9pRYypab5V...            India Wildlife  https://photos.google...              30  https://lh3.googleuse...  AEcM7lYji0-zjUYFzwQC9...\n29  AEcM7lZasVYHi8vAD6ODr...   Bakewell & Stanage Edge  https://photos.google...              44  https://lh3.googleuse...  AEcM7lYr_X2I76krrbYzt...\n30  AEcM7labxlEl72wq84SEp...         Grange-over-Sands  https://photos.google...              98  https://lh3.googleuse...  AEcM7lYsHpWo2t8VJ1C3n...\n31  AEcM7lZ9bCKRrbKp93wrY...     20th Anniversary Week  https://photos.google...             152  https://lh3.googleuse...  AEcM7la6ziIQX0pzdpYUw...\n32  AEcM7lZOT99pqxugxeub2...  Saturday afternoon in...  https://photos.google...              16  https://lh3.googleuse...  AEcM7la_la0cHmtwVSxbg...\n33  AEcM7lZijlZo9M16lzgkk...            Slaidburn 2016  https://photos.google...              61  https://lh3.googleuse...  AEcM7lZ1e5YYy9BXaUXdz...\n34  AEcM7lbVoba2yj0JFCrvk...             Trip to Essex  https://photos.google...              73  https://lh3.googleuse...  AEcM7lYzlgYZ53FpY4Yaw...\n35  AEcM7lZcWTodZ5ALgQ9l8...   Scanned Family Photos 2  https://photos.google...            1106  https://lh3.googleuse...  AEcM7lYoLFjPoWAAfW8ZE...\n36  AEcM7laDM5jUvGZugyMOW...  Sunday in Millhouse G...  https://photos.google...              30  https://lh3.googleuse...  AEcM7lY8AkEWLbLWeHAjt...\n37  AEcM7lZDChC2-kPcLdT5f...  Sunday in Thurlstone ...  https://photos.google...              14  https://lh3.googleuse...  AEcM7lZM3fjWId06ZbH8I...\n38  AEcM7lYWytf4__DjaHvGp...     Scanned Family Photos  https://photos.google...            1956  https://lh3.googleuse...  AEcM7lbi8-hXQun48ltQL...\n39  AEcM7lbcxnTo-gDLFZQVQ...        Weekend in England  https://photos.google...              22  https://lh3.googleuse...  AEcM7lYOEDHBf1Z56jZuh...\n40  AEcM7laa2gK3ytMpqxmCO...          Switzerland 2015  https://photos.google...             318  https://lh3.googleuse...  AEcM7lYNWCFBXd7Cd1IVX...\n41  AEcM7lbYomCSI6Q8w_uNi...            Trip to London  https://photos.google...              17  https://lh3.googleuse...  AEcM7lb0GSVj01yQRhZRV...\n42  AEcM7lZW0s0SslsNoBT-z...          Trip to Scotland  https://photos.google...              31  https://lh3.googleuse...  AEcM7lZxNxlA3W979nvi6...\n43  AEcM7ladG0rr8ciM_dJMZ...            Trip to London  https://photos.google...              54  https://lh3.googleuse...  AEcM7lbjVFQAg_EXXE0om...\n44  AEcM7laC1M0rDqu6MNzjf...            Trip to London  https://photos.google...              35  https://lh3.googleuse...  AEcM7lZq8ZLMTFQCkGrOo...\n45  AEcM7lZxEqMG3IIACmJy7...  Trip to Beamish and N...  https://photos.google...              21  https://lh3.googleuse...  AEcM7lbP4xnIT7f8On4qo...\n46  AEcM7lYWYSji5yWlQRIdV...             Trip to Spain  https://photos.google...              15  https://lh3.googleuse...  AEcM7lbu2unp-V2_gD40j...\n47  AEcM7lYtwtTmsYM2-hQq2...            Trip to Málaga  https://photos.google...              30  https://lh3.googleuse...  AEcM7lak-upKjyA7MR8Ye...\n48  AEcM7lbdots7DXHVKIlRT...         Weekend in London  https://photos.google...               8  https://lh3.googleuse...  AEcM7lbNApR_oO3ZmOz4F...\n49  AEcM7laKdCkZfwaF0GaMC...                  Untitled  https://photos.google...             NaN  https://lh3.googleuse...                       NaN\n"
    }
   ],
   "source": [
    "\"\"\"\n",
    "list method\n",
    "\"\"\"\n",
    "\n",
    "response = service.albums().list(\n",
    "    pageSize=50,\n",
    "    excludeNonAppCreatedData=False\n",
    ").execute()\n",
    "\n",
    "lstAlbums = response.get('albums')\n",
    "nextPageToken = response.get('nextPageToken')\n",
    "\n",
    "while nextPageToken:\n",
    "    response = service.albums().list(\n",
    "        pageSize=50,\n",
    "        excludeNonAppCreatedData=False,\n",
    "        pageToken=nextPageToken\n",
    "    )\n",
    "    lstAlbums.append(response.get('albums'))\n",
    "    nextPageToken = response.get('nextPageToken')\n",
    "\n",
    "df_albums = pd.DataFrame(lstAlbums)\n",
    "\n",
    "print(df_albums)"
   ]
  },
  {
   "cell_type": "code",
   "execution_count": 31,
   "metadata": {
    "tags": []
   },
   "outputs": [
    {
     "output_type": "stream",
     "name": "stdout",
     "text": "{'id': 'AEcM7lbdhxfaagnaR2X3zB_6hjS3Ao1y4zRJDQk6ab99ywjwktAM22SE2adyTWrgZkce98ppY2wj', 'title': 'Birds', 'productUrl': 'https://photos.google.com/lr/album/AEcM7lbdhxfaagnaR2X3zB_6hjS3Ao1y4zRJDQk6ab99ywjwktAM22SE2adyTWrgZkce98ppY2wj', 'mediaItemsCount': '2510', 'coverPhotoBaseUrl': 'https://lh3.googleusercontent.com/lr/AFBm1_ZcgUl2g3EtRNhRDdSPomFo8x-ha5V3-JaCjMhHkUajKpcukywuA9omdd4XSaqT-RJpZHN71TgCVQIAQnuiZ8hINT_GlzdgDOGszbXKpiN1RQb41SyeA_Hx6_lFIRVUKtGK-7QbX6RjmrbCzXJW6K9OPEHi8LBHepv47sXFa5zbIUR7eZFGoj6Fv2cEKEZqbG4doenS2XnosdC57mFPqabWOLG4_TH27pIo0elk0rop01uRrUHmhwty3qse1hC-GYiaoBrXDOfJMy424ozjwNA3FmibDCztNpJWN-8zkv99JnhxW29GTw70ee6LAVvGuZanbApnLoZJV_eLNW0MYyu1nC0hI0yrcKaoJ6nns6kQ5TJWg5INghF32lrMVkhPSRr7iVGp4C5IwLhOBai6Vx77pbctoRzCTgnJaj_TQQkt2gd1Oi3MA2W5HdXkR_2qlCg5o6xGi3CmN8DT_oyYdLUbRnUKm0svUNgoIRWTr6vWCxLkNx8MO9QhZP3q23-EeFIXIsQFUHZ0eMuJh6HJ1rRcHmi5kIdj29L1FlpgnhoypXFLESZxV4SwTFuelcD-F9BvspuCsKLWe9QdB66MpdqWRyBBlljnyVcqQoezPb5E6Qr2VYzSfY50CA4UzME5miJ8tFfTnzuH03l02G_GVOsvlkPl7pJ4IPwEzKf3h_nhqIDTen1ULvrZ3dX0Kp_U4p6Yb5wQc5kRpPysYG4o8UTAJFoo3jzXzZiWU7rheuCmQXs2qeNoBrt8Sb2ibTYtJRXEIOEkWqoq3qsFnAZ42BZpHSLrt9s_ULzTx8EFC7_5dOffHpIjEfC-wBSc0Q', 'coverPhotoMediaItemId': 'AEcM7lZZtUIZPZBMC-8OO8o0_M5kwI6E_AP5U7k2HeAkHeinHmGhOFrSaLVNIr0fjzaFXrI9y0kJYYY6qSuldQAjhDdM4LpQsg'}\n"
    }
   ],
   "source": [
    "\"\"\"\n",
    "get method\n",
    "\"\"\"\n",
    "\n",
    "my_album_id = df_albums[df_albums['title']=='Birds']['id'][4]\n",
    "response = service.albums().get(albumId=my_album_id).execute()\n",
    "print(response)"
   ]
  },
  {
   "cell_type": "code",
   "execution_count": null,
   "metadata": {},
   "outputs": [],
   "source": []
  }
 ]
}